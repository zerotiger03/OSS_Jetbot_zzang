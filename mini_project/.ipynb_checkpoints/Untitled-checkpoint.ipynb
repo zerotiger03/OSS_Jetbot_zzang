{
 "cells": [
  {
   "cell_type": "code",
   "execution_count": 1,
   "metadata": {},
   "outputs": [
    {
     "data": {
      "application/vnd.jupyter.widget-view+json": {
       "model_id": "66a67d70b2d54e38b16c9f6147e92bc4",
       "version_major": 2,
       "version_minor": 0
      },
      "text/plain": [
       "Image(value=b'', format='jpeg', height='224', width='224')"
      ]
     },
     "metadata": {},
     "output_type": "display_data"
    }
   ],
   "source": [
    "from jetbot import Camera\n",
    "import ipywidgets.widgets as widgets\n",
    "from IPython.display import display\n",
    "import traitlets\n",
    "from jetbot import bgr8_to_jpeg\n",
    "\n",
    "camera = Camera.instance(width=224, height=224)\n",
    "image = widgets.Image(format='jpeg', width=224, height=224)\n",
    "display(image)\n",
    "camera_link = traitlets.dlink((camera, 'value'), (image, 'value'), transform=bgr8_to_jpeg)"
   ]
  },
  {
   "cell_type": "code",
   "execution_count": 2,
   "metadata": {},
   "outputs": [],
   "source": [
    "from RGB_Lib import Programing_RGB\n",
    "RGB = Programing_RGB()"
   ]
  },
  {
   "cell_type": "code",
   "execution_count": 3,
   "metadata": {},
   "outputs": [],
   "source": [
    "RGB.Set_WaterfallLight_RGB()"
   ]
  },
  {
   "cell_type": "code",
   "execution_count": 4,
   "metadata": {},
   "outputs": [],
   "source": [
    "RGB.Set_ChameleonLight_RGB()"
   ]
  },
  {
   "cell_type": "code",
   "execution_count": 5,
   "metadata": {},
   "outputs": [],
   "source": [
    "RGB.Set_BreathColor_RGB()"
   ]
  },
  {
   "cell_type": "code",
   "execution_count": 6,
   "metadata": {},
   "outputs": [],
   "source": [
    "RGB.Set_BreathSColor_RGB(0)\n",
    "RGB.Set_BreathSSpeed_RGB(3)\n",
    "RGB.Set_BreathSLight_RGB()"
   ]
  },
  {
   "cell_type": "code",
   "execution_count": 7,
   "metadata": {},
   "outputs": [],
   "source": [
    "RGB.OFF_ALL_RGB()"
   ]
  },
  {
   "cell_type": "code",
   "execution_count": 8,
   "metadata": {},
   "outputs": [],
   "source": [
    "from jetbot import Robot\n",
    "robot = Robot()"
   ]
  },
  {
   "cell_type": "code",
   "execution_count": null,
   "metadata": {},
   "outputs": [
    {
     "data": {
      "application/vnd.jupyter.widget-view+json": {
       "model_id": "b19a085235e44d1e8d2cbc88b72faacc",
       "version_major": 2,
       "version_minor": 0
      },
      "text/plain": [
       "Image(value=b'', format='jpeg', height='224', width='224')"
      ]
     },
     "metadata": {},
     "output_type": "display_data"
    },
    {
     "name": "stdin",
     "output_type": "stream",
     "text": [
      "forward : w, right : d, left : a, backward : s b\n"
     ]
    },
    {
     "name": "stdout",
     "output_type": "stream",
     "text": [
      "b Pressed ...\n"
     ]
    }
   ],
   "source": [
    "import time\n",
    "RGB = Programing_RGB()\n",
    "\n",
    "try :\n",
    "    camera = Camera.instance(width=224, height=224)\n",
    "    image = widgets.Image(format='jpeg', width=224, height=224)\n",
    "    display(image)\n",
    "    \n",
    "    camera_link = traitlets.dlink((camera, 'value'), (image, 'value'), transform=bgr8_to_jpeg)\n",
    "    \n",
    "    RGB.Set_An_RGB(0, 0xFF, 0xFF, 0xFF) #white\n",
    "    time.sleep(0.5)\n",
    "    RGB.Set_All_RGB(0xFF, 0x00, 0x00) #Red\n",
    "    time.sleep(0.5)\n",
    "    RGB.Set_All_RGB(0x00, 0xFF, 0x00) #Blue\n",
    "    time.sleep(0.5)\n",
    "    RGB.Set_All_RGB(0x00, 0x00, 0xFF) #Green\n",
    "    time.sleep(0.5)\n",
    "    \n",
    "    while True:\n",
    "        key = input(f'forward : w, right : d, left : a, backward : s')\n",
    "        key = key.lower()\n",
    "        print(f'{key} Pressed ...')\n",
    "        \n",
    "        if key == 'w' :\n",
    "            RGB.Set_WaterfallLight_RGB()\n",
    "            robot.forward(0.5)\n",
    "        elif key == 'a' :\n",
    "            RGB.Set_ChameleonLight_RGB()\n",
    "            robot.left(0.75)\n",
    "        elif key == 'd' :\n",
    "            RGB.Set_BreathColor_RGB()\n",
    "            robot.right(0.75)\n",
    "        elif key == 's' :\n",
    "            RGB.OFF_ALL_RGB()\n",
    "            robot.backward(0.5)\n",
    "        elif key == 'b' :\n",
    "            robot.stop()\n",
    "        elif key == 'gg':\n",
    "            break\n",
    "\n",
    "except :\n",
    "    RGB.OFF_ALL_RGB()"
   ]
  },
  {
   "cell_type": "code",
   "execution_count": null,
   "metadata": {},
   "outputs": [],
   "source": [
    "import torch\n",
    "import torchvision\n",
    "\n",
    "device = torch.device('cuda')\n",
    "\n",
    "model = torchvision.models.resnet18(pretrained = True)\n",
    "model.fc = torch.nn.Linear(512, len(dataset.categories))\n",
    "\n",
    "model = model.to(device)\n",
    "\n",
    "model_save_button = ipywidgets.Button(description = 'save model')\n",
    "model_load_button = ipywidgets.Button(description = 'load model')\n",
    "model_path_widget = ipywidgets.Text(description = 'model path', value = 'my_model.pth')\n",
    "\n",
    "def load_model(c) :\n",
    "    model.load_state_dict(torch.load(model_path_widget.value))\n",
    "model_load_button.on_click(load_model)\n",
    "\n",
    "def save_model(c) :\n",
    "    torch.save(model.state_dict(), model_path_widget.value)\n",
    "model_save_button.on_click(save_model)"
   ]
  },
  {
   "cell_type": "code",
   "execution_count": null,
   "metadata": {},
   "outputs": [],
   "source": []
  }
 ],
 "metadata": {
  "kernelspec": {
   "display_name": "Python 3",
   "language": "python",
   "name": "python3"
  },
  "language_info": {
   "codemirror_mode": {
    "name": "ipython",
    "version": 3
   },
   "file_extension": ".py",
   "mimetype": "text/x-python",
   "name": "python",
   "nbconvert_exporter": "python",
   "pygments_lexer": "ipython3",
   "version": "3.6.9"
  }
 },
 "nbformat": 4,
 "nbformat_minor": 4
}
