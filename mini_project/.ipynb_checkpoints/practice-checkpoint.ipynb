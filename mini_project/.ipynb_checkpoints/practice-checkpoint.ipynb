{
 "cells": [
  {
   "cell_type": "code",
   "execution_count": 119,
   "metadata": {},
   "outputs": [
    {
     "name": "stdout",
     "output_type": "stream",
     "text": [
      "serial Open!\n"
     ]
    }
   ],
   "source": [
    "from RGB_Lib import Programing_RGB\n",
    "from servoserial import ServoSerial\n",
    "import time\n",
    "from jetbot import Robot\n",
    "from servoserial import ServoSerial\n",
    "import RPi.GPIO as GPIO\n",
    "RGB = Programing_RGB()\n",
    "robot = Robot()\n",
    "pantilt = ServoSerial() "
   ]
  },
  {
   "cell_type": "code",
   "execution_count": null,
   "metadata": {},
   "outputs": [],
   "source": [
    "BEEP_pin = 6\n",
    "GPIO.setmode(GPIO.BCM)\n",
    "GPIO.setup(BEEP_pin, GPIO.OUT, initial = GPIO.LOW)\n",
    "\n",
    "def Beep(beepTime) :\n",
    "    GPIO.output(BEEP_pin, GPIO.HIGH)\n",
    "    time.sleep(beepTime)\n",
    "    GPIO.output(BEEP_pin, GPIO.LOW)"
   ]
  },
  {
   "cell_type": "code",
   "execution_count": null,
   "metadata": {},
   "outputs": [],
   "source": [
    "while 1:\n",
    "    gesture = model.output\n",
    "    if gesture == 'thumbs_up':\n",
    "        RGB.Set_All_RGB(0x66, 0x66, 0xFF)\n",
    "    elif gesture == 'thumbs_down':\n",
    "        RGB.OFF_ALL_RGB()\n",
    "    elif gesture == 'okay':\n",
    "        for i in range(0, 2) :\n",
    "            pantilt.Servo_serial_control(2, 3750)\n",
    "            time.sleep(1)\n",
    "            pantilt.Servo_serial_control(2, 5000)\n",
    "            time.sleep(1)\n",
    "    elif gesture == 'paper':\n",
    "        robot.stop()\n",
    "    elif gesture == 'rock':\n",
    "        robot.set_motors(0.4, 3.7)\n",
    "    elif gesture == 'v':    \n",
    "        Beep(0.2)\n",
    "    else:\n",
    "        robot.stop()\n",
    "        "
   ]
  },
  {
   "cell_type": "code",
   "execution_count": 136,
   "metadata": {},
   "outputs": [
    {
     "name": "stdout",
     "output_type": "stream",
     "text": [
      "11\n",
      "b'\\xff\\xff\\x02\\x07\\x03*\\x0e\\xa6\\x00\\n\\x0b'\n",
      "36\n",
      "b'\\xff\\xff\\x02\\x07\\x03*\\x13\\x88\\x00\\n$'\n",
      "11\n",
      "b'\\xff\\xff\\x02\\x07\\x03*\\x0e\\xa6\\x00\\n\\x0b'\n",
      "36\n",
      "b'\\xff\\xff\\x02\\x07\\x03*\\x13\\x88\\x00\\n$'\n"
     ]
    }
   ],
   "source": [
    "for i in range(0, 2) :\n",
    "        pantilt.Servo_serial_control(2, 3750)\n",
    "        time.sleep(1)\n",
    "        pantilt.Servo_serial_control(2, 5000)\n",
    "        time.sleep(1)\n",
    "        \n",
    "Beep(0.2)"
   ]
  },
  {
   "cell_type": "code",
   "execution_count": null,
   "metadata": {},
   "outputs": [],
   "source": []
  }
 ],
 "metadata": {
  "kernelspec": {
   "display_name": "Python 3",
   "language": "python",
   "name": "python3"
  },
  "language_info": {
   "codemirror_mode": {
    "name": "ipython",
    "version": 3
   },
   "file_extension": ".py",
   "mimetype": "text/x-python",
   "name": "python",
   "nbconvert_exporter": "python",
   "pygments_lexer": "ipython3",
   "version": "3.6.9"
  }
 },
 "nbformat": 4,
 "nbformat_minor": 4
}
